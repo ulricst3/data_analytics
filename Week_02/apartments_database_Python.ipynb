{
 "cells": [
  {
   "cell_type": "markdown",
   "id": "spectacular-oxford",
   "metadata": {},
   "source": [
    "# Writing data to and reading data from a Database using Python"
   ]
  },
  {
   "cell_type": "markdown",
   "id": "14d7fbf5",
   "metadata": {},
   "source": [
    "## Libraries and settings"
   ]
  },
  {
   "cell_type": "code",
   "id": "6b7c9af0",
   "metadata": {
    "ExecuteTime": {
     "end_time": "2025-09-24T16:39:28.825616Z",
     "start_time": "2025-09-24T16:39:28.819333Z"
    }
   },
   "source": [
    "# Libraries\n",
    "import os\n",
    "import sqlite3\n",
    "import fnmatch\n",
    "import numpy as np\n",
    "import pandas as pd\n",
    "import matplotlib.pyplot as plt\n",
    "\n",
    "# Ignore warnings\n",
    "import warnings\n",
    "warnings.filterwarnings(\"ignore\")\n",
    "\n",
    "# Function to close a sqlite db-connection\n",
    "def check_conn(conn):\n",
    "     try:\n",
    "        conn.cursor()\n",
    "        return True\n",
    "     except Exception as ex:\n",
    "        return False\n",
    "\n",
    "# Get current working directory\n",
    "print(os.getcwd())"
   ],
   "outputs": [
    {
     "name": "stdout",
     "output_type": "stream",
     "text": [
      "C:\\Dev\\Studium\\Sem5\\DA\\data_analytics\\Week_02\n"
     ]
    }
   ],
   "execution_count": 28
  },
  {
   "cell_type": "markdown",
   "id": "0b880d4d",
   "metadata": {},
   "source": [
    "## Create sqlite data base"
   ]
  },
  {
   "cell_type": "code",
   "id": "240f7517",
   "metadata": {
    "ExecuteTime": {
     "end_time": "2025-09-24T16:39:28.852869Z",
     "start_time": "2025-09-24T16:39:28.848784Z"
    }
   },
   "source": [
    "# Create data base\n",
    "conn = sqlite3.connect('apartment_database.db') \n",
    "cursor = conn.cursor()\n",
    "\n",
    "# Show dbs in the directory\n",
    "flist = fnmatch.filter(os.listdir('.'), '*.db')\n",
    "for i in flist:\n",
    "    print(i)"
   ],
   "outputs": [
    {
     "name": "stdout",
     "output_type": "stream",
     "text": [
      "apartment_database.db\n"
     ]
    }
   ],
   "execution_count": 29
  },
  {
   "cell_type": "markdown",
   "id": "aff97772",
   "metadata": {},
   "source": [
    "## Create SQL-table in the database"
   ]
  },
  {
   "cell_type": "code",
   "id": "a3d83cba",
   "metadata": {
    "ExecuteTime": {
     "end_time": "2025-09-24T16:39:28.868203Z",
     "start_time": "2025-09-24T16:39:28.864450Z"
    }
   },
   "source": [
    "cursor.execute('''CREATE TABLE IF NOT EXISTS apartments_table (OrderId VARCHAR(50),\n",
    "                                                               Adress VARCHAR(200),\n",
    "                                                               Rooms DECIMAL(8,2),\n",
    "                                                               Area INT(8),\n",
    "                                                               Price DECIMAL(8,2))''')\n",
    "# Confirm changes to the table\n",
    "conn.commit()"
   ],
   "outputs": [],
   "execution_count": 30
  },
  {
   "cell_type": "markdown",
   "id": "a87c8dee",
   "metadata": {},
   "source": [
    "## Read data from file to data frame"
   ]
  },
  {
   "cell_type": "code",
   "id": "34300bd6",
   "metadata": {
    "ExecuteTime": {
     "end_time": "2025-09-24T16:39:28.901215Z",
     "start_time": "2025-09-24T16:39:28.879263Z"
    }
   },
   "source": [
    "df = pd.read_csv('apartments_data_prepared.csv',\n",
    "                  sep=',', \n",
    "                  encoding='utf-8')[['web-scraper-order', 'address_raw', 'rooms', 'area', 'price']]\n",
    "print(df.shape)\n",
    "df.head(5)"
   ],
   "outputs": [
    {
     "name": "stdout",
     "output_type": "stream",
     "text": [
      "(1008, 5)\n"
     ]
    },
    {
     "data": {
      "text/plain": [
       "  web-scraper-order                          address_raw  rooms  area   price\n",
       "0      1693998201-1    Neuhusstrasse 6, 8630 Rüti ZH, ZH    3.0  49.0  1441.0\n",
       "1      1693998201-2   Zürcherstrasse 1, 8173 Neerach, ZH    3.5  65.0  1850.0\n",
       "2      1693998201-3  Cramerstrasse 8-12, 8004 Zürich, ZH    NaN   NaN  2686.0\n",
       "3      1693998201-4  Cramerstrasse 8-12, 8004 Zürich, ZH    2.0  54.0  4853.0\n",
       "4      1693998201-5    Rotachstrasse 33, 8003 Zürich, ZH    2.0  49.0  4335.0"
      ],
      "text/html": [
       "<div>\n",
       "<style scoped>\n",
       "    .dataframe tbody tr th:only-of-type {\n",
       "        vertical-align: middle;\n",
       "    }\n",
       "\n",
       "    .dataframe tbody tr th {\n",
       "        vertical-align: top;\n",
       "    }\n",
       "\n",
       "    .dataframe thead th {\n",
       "        text-align: right;\n",
       "    }\n",
       "</style>\n",
       "<table border=\"1\" class=\"dataframe\">\n",
       "  <thead>\n",
       "    <tr style=\"text-align: right;\">\n",
       "      <th></th>\n",
       "      <th>web-scraper-order</th>\n",
       "      <th>address_raw</th>\n",
       "      <th>rooms</th>\n",
       "      <th>area</th>\n",
       "      <th>price</th>\n",
       "    </tr>\n",
       "  </thead>\n",
       "  <tbody>\n",
       "    <tr>\n",
       "      <th>0</th>\n",
       "      <td>1693998201-1</td>\n",
       "      <td>Neuhusstrasse 6, 8630 Rüti ZH, ZH</td>\n",
       "      <td>3.0</td>\n",
       "      <td>49.0</td>\n",
       "      <td>1441.0</td>\n",
       "    </tr>\n",
       "    <tr>\n",
       "      <th>1</th>\n",
       "      <td>1693998201-2</td>\n",
       "      <td>Zürcherstrasse 1, 8173 Neerach, ZH</td>\n",
       "      <td>3.5</td>\n",
       "      <td>65.0</td>\n",
       "      <td>1850.0</td>\n",
       "    </tr>\n",
       "    <tr>\n",
       "      <th>2</th>\n",
       "      <td>1693998201-3</td>\n",
       "      <td>Cramerstrasse 8-12, 8004 Zürich, ZH</td>\n",
       "      <td>NaN</td>\n",
       "      <td>NaN</td>\n",
       "      <td>2686.0</td>\n",
       "    </tr>\n",
       "    <tr>\n",
       "      <th>3</th>\n",
       "      <td>1693998201-4</td>\n",
       "      <td>Cramerstrasse 8-12, 8004 Zürich, ZH</td>\n",
       "      <td>2.0</td>\n",
       "      <td>54.0</td>\n",
       "      <td>4853.0</td>\n",
       "    </tr>\n",
       "    <tr>\n",
       "      <th>4</th>\n",
       "      <td>1693998201-5</td>\n",
       "      <td>Rotachstrasse 33, 8003 Zürich, ZH</td>\n",
       "      <td>2.0</td>\n",
       "      <td>49.0</td>\n",
       "      <td>4335.0</td>\n",
       "    </tr>\n",
       "  </tbody>\n",
       "</table>\n",
       "</div>"
      ]
     },
     "execution_count": 31,
     "metadata": {},
     "output_type": "execute_result"
    }
   ],
   "execution_count": 31
  },
  {
   "cell_type": "markdown",
   "id": "ef970dfe",
   "metadata": {},
   "source": [
    "## Write data to the SQL-table in data base"
   ]
  },
  {
   "cell_type": "code",
   "id": "1c728ac7",
   "metadata": {
    "ExecuteTime": {
     "end_time": "2025-09-24T16:39:28.966018Z",
     "start_time": "2025-09-24T16:39:28.941435Z"
    }
   },
   "source": [
    "df.to_sql(name = 'apartments_table',\n",
    "          con = conn,\n",
    "          index = False,\n",
    "          if_exists = 'replace')"
   ],
   "outputs": [
    {
     "data": {
      "text/plain": [
       "1008"
      ]
     },
     "execution_count": 32,
     "metadata": {},
     "output_type": "execute_result"
    }
   ],
   "execution_count": 32
  },
  {
   "cell_type": "markdown",
   "id": "43c2ef9f",
   "metadata": {},
   "source": [
    "## Query the SQL-table"
   ]
  },
  {
   "cell_type": "code",
   "id": "48dcc02c",
   "metadata": {
    "ExecuteTime": {
     "end_time": "2025-09-24T16:39:29.055709Z",
     "start_time": "2025-09-24T16:39:29.044436Z"
    }
   },
   "source": [
    "# Query the SQL-table\n",
    "cursor.execute('''SELECT *\n",
    "               FROM apartments_table\n",
    "               WHERE rooms >=1''')\n",
    "\n",
    "df = pd.DataFrame(cursor.fetchall(), \n",
    "                  columns=['OrderId','Address','Rooms','Area','Price'])    \n",
    "df"
   ],
   "outputs": [
    {
     "data": {
      "text/plain": [
       "             OrderId                                            Address  \\\n",
       "0       1693998201-1                  Neuhusstrasse 6, 8630 Rüti ZH, ZH   \n",
       "1       1693998201-2                 Zürcherstrasse 1, 8173 Neerach, ZH   \n",
       "2       1693998201-4                Cramerstrasse 8-12, 8004 Zürich, ZH   \n",
       "3       1693998201-5                  Rotachstrasse 33, 8003 Zürich, ZH   \n",
       "4      1693998201-16                    Wolframplatz 1, 8045 Zürich, ZH   \n",
       "..               ...                                                ...   \n",
       "958  1693998381-1004               Hölderlinstrasse 12, 8032 Zürich, ZH   \n",
       "959  1693998381-1005  Hegifeldstrasse 70, 8404 Reutlingen (Winterthu...   \n",
       "960  1693998381-1006           Holzmoosrütisteig 2b, 8820 Wädenswil, ZH   \n",
       "961  1693998381-1007           Vogelbuckstrasse 25, 8307 Effretikon, ZH   \n",
       "962  1693998381-1008                  Maneggstrasse 83, 8041 Zürich, ZH   \n",
       "\n",
       "     Rooms   Area   Price  \n",
       "0      3.0   49.0  1441.0  \n",
       "1      3.5   65.0  1850.0  \n",
       "2      2.0   54.0  4853.0  \n",
       "3      2.0   49.0  4335.0  \n",
       "4      2.0   32.0  3515.0  \n",
       "..     ...    ...     ...  \n",
       "958    3.5   82.0  2830.0  \n",
       "959    4.0   73.0  1713.0  \n",
       "960    4.5  110.0  3500.0  \n",
       "961    3.0   68.0  1650.0  \n",
       "962    4.5  114.0  3262.0  \n",
       "\n",
       "[963 rows x 5 columns]"
      ],
      "text/html": [
       "<div>\n",
       "<style scoped>\n",
       "    .dataframe tbody tr th:only-of-type {\n",
       "        vertical-align: middle;\n",
       "    }\n",
       "\n",
       "    .dataframe tbody tr th {\n",
       "        vertical-align: top;\n",
       "    }\n",
       "\n",
       "    .dataframe thead th {\n",
       "        text-align: right;\n",
       "    }\n",
       "</style>\n",
       "<table border=\"1\" class=\"dataframe\">\n",
       "  <thead>\n",
       "    <tr style=\"text-align: right;\">\n",
       "      <th></th>\n",
       "      <th>OrderId</th>\n",
       "      <th>Address</th>\n",
       "      <th>Rooms</th>\n",
       "      <th>Area</th>\n",
       "      <th>Price</th>\n",
       "    </tr>\n",
       "  </thead>\n",
       "  <tbody>\n",
       "    <tr>\n",
       "      <th>0</th>\n",
       "      <td>1693998201-1</td>\n",
       "      <td>Neuhusstrasse 6, 8630 Rüti ZH, ZH</td>\n",
       "      <td>3.0</td>\n",
       "      <td>49.0</td>\n",
       "      <td>1441.0</td>\n",
       "    </tr>\n",
       "    <tr>\n",
       "      <th>1</th>\n",
       "      <td>1693998201-2</td>\n",
       "      <td>Zürcherstrasse 1, 8173 Neerach, ZH</td>\n",
       "      <td>3.5</td>\n",
       "      <td>65.0</td>\n",
       "      <td>1850.0</td>\n",
       "    </tr>\n",
       "    <tr>\n",
       "      <th>2</th>\n",
       "      <td>1693998201-4</td>\n",
       "      <td>Cramerstrasse 8-12, 8004 Zürich, ZH</td>\n",
       "      <td>2.0</td>\n",
       "      <td>54.0</td>\n",
       "      <td>4853.0</td>\n",
       "    </tr>\n",
       "    <tr>\n",
       "      <th>3</th>\n",
       "      <td>1693998201-5</td>\n",
       "      <td>Rotachstrasse 33, 8003 Zürich, ZH</td>\n",
       "      <td>2.0</td>\n",
       "      <td>49.0</td>\n",
       "      <td>4335.0</td>\n",
       "    </tr>\n",
       "    <tr>\n",
       "      <th>4</th>\n",
       "      <td>1693998201-16</td>\n",
       "      <td>Wolframplatz 1, 8045 Zürich, ZH</td>\n",
       "      <td>2.0</td>\n",
       "      <td>32.0</td>\n",
       "      <td>3515.0</td>\n",
       "    </tr>\n",
       "    <tr>\n",
       "      <th>...</th>\n",
       "      <td>...</td>\n",
       "      <td>...</td>\n",
       "      <td>...</td>\n",
       "      <td>...</td>\n",
       "      <td>...</td>\n",
       "    </tr>\n",
       "    <tr>\n",
       "      <th>958</th>\n",
       "      <td>1693998381-1004</td>\n",
       "      <td>Hölderlinstrasse 12, 8032 Zürich, ZH</td>\n",
       "      <td>3.5</td>\n",
       "      <td>82.0</td>\n",
       "      <td>2830.0</td>\n",
       "    </tr>\n",
       "    <tr>\n",
       "      <th>959</th>\n",
       "      <td>1693998381-1005</td>\n",
       "      <td>Hegifeldstrasse 70, 8404 Reutlingen (Winterthu...</td>\n",
       "      <td>4.0</td>\n",
       "      <td>73.0</td>\n",
       "      <td>1713.0</td>\n",
       "    </tr>\n",
       "    <tr>\n",
       "      <th>960</th>\n",
       "      <td>1693998381-1006</td>\n",
       "      <td>Holzmoosrütisteig 2b, 8820 Wädenswil, ZH</td>\n",
       "      <td>4.5</td>\n",
       "      <td>110.0</td>\n",
       "      <td>3500.0</td>\n",
       "    </tr>\n",
       "    <tr>\n",
       "      <th>961</th>\n",
       "      <td>1693998381-1007</td>\n",
       "      <td>Vogelbuckstrasse 25, 8307 Effretikon, ZH</td>\n",
       "      <td>3.0</td>\n",
       "      <td>68.0</td>\n",
       "      <td>1650.0</td>\n",
       "    </tr>\n",
       "    <tr>\n",
       "      <th>962</th>\n",
       "      <td>1693998381-1008</td>\n",
       "      <td>Maneggstrasse 83, 8041 Zürich, ZH</td>\n",
       "      <td>4.5</td>\n",
       "      <td>114.0</td>\n",
       "      <td>3262.0</td>\n",
       "    </tr>\n",
       "  </tbody>\n",
       "</table>\n",
       "<p>963 rows × 5 columns</p>\n",
       "</div>"
      ]
     },
     "execution_count": 33,
     "metadata": {},
     "output_type": "execute_result"
    }
   ],
   "execution_count": 33
  },
  {
   "cell_type": "markdown",
   "id": "0cc2274f",
   "metadata": {},
   "source": [
    "## Plot histogramm of rental prices"
   ]
  },
  {
   "cell_type": "code",
   "id": "60146b13",
   "metadata": {
    "ExecuteTime": {
     "end_time": "2025-09-24T16:39:29.287457Z",
     "start_time": "2025-09-24T16:39:29.141513Z"
    }
   },
   "source": [
    "df.Price.plot.hist(grid=True, \n",
    "                   bins=20, \n",
    "                   rwidth=0.9,\n",
    "                   color='#607c8e')\n",
    "plt.title('Apartment price')\n",
    "plt.xlabel('Price')\n",
    "plt.ylabel('Frequency')\n",
    "plt.grid(axis='y', alpha=0.75)"
   ],
   "outputs": [
    {
     "data": {
      "text/plain": [
       "<Figure size 640x480 with 1 Axes>"
      ],
      "image/png": "[encoded data removed]"
     },
     "metadata": {},
     "output_type": "display_data",
     "jetTransient": {
      "display_id": null
     }
    }
   ],
   "execution_count": 34
  },
  {
   "metadata": {},
   "cell_type": "markdown",
   "source": "## Additional SQL-queries",
   "id": "2b7dccaf18214ebd"
  },
  {
   "metadata": {},
   "cell_type": "markdown",
   "source": "c)",
   "id": "617f0de41c94b52a"
  },
  {
   "metadata": {
    "ExecuteTime": {
     "end_time": "2025-09-24T16:39:29.355527Z",
     "start_time": "2025-09-24T16:39:29.342726Z"
    }
   },
   "cell_type": "code",
   "source": [
    "cursor.execute('''SELECT *\n",
    "    FROM apartments_table\n",
    "    WHERE Rooms >= 4.0\n",
    "    AND Area >= 100;''')\n",
    "\n",
    "df = pd.DataFrame(cursor.fetchall(),\n",
    "                  columns=['OrderId','Address','Rooms','Area','Price'])\n",
    "df"
   ],
   "id": "30768f08f7633f4",
   "outputs": [
    {
     "data": {
      "text/plain": [
       "             OrderId                                         Address  Rooms  \\\n",
       "0      1693998205-26           Frowiesstrasse 36, 8344 Bäretswil, ZH    5.5   \n",
       "1      1693998205-27          Kanzleistrasse 15, 8418 Schlatt ZH, ZH    4.5   \n",
       "2      1693998205-29                   Bolletweg 14, 8934 Knonau, ZH    5.5   \n",
       "3      1693998205-31               Adlergass 6, 8805 Richterswil, ZH    5.5   \n",
       "4      1693998205-33  Haldenstrasse 67, 8602 Wangen b. Dübendorf, ZH    4.5   \n",
       "..               ...                                             ...    ...   \n",
       "234   1693998381-998                Tösstalstrasse 12, 8492 Wila, ZH    4.5   \n",
       "235   1693998381-999      Murzlenstrasse 66, 8166 Niederweningen, ZH    4.5   \n",
       "236  1693998381-1001      Murzlenstrasse 66, 8166 Niederweningen, ZH    4.5   \n",
       "237  1693998381-1006        Holzmoosrütisteig 2b, 8820 Wädenswil, ZH    4.5   \n",
       "238  1693998381-1008               Maneggstrasse 83, 8041 Zürich, ZH    4.5   \n",
       "\n",
       "      Area   Price  \n",
       "0    140.0  2750.0  \n",
       "1    104.0  2700.0  \n",
       "2    150.0  3390.0  \n",
       "3    165.0     NaN  \n",
       "4    118.0  3390.0  \n",
       "..     ...     ...  \n",
       "234  109.0  1980.0  \n",
       "235  111.0  2700.0  \n",
       "236  111.0  2800.0  \n",
       "237  110.0  3500.0  \n",
       "238  114.0  3262.0  \n",
       "\n",
       "[239 rows x 5 columns]"
      ],
      "text/html": [
       "<div>\n",
       "<style scoped>\n",
       "    .dataframe tbody tr th:only-of-type {\n",
       "        vertical-align: middle;\n",
       "    }\n",
       "\n",
       "    .dataframe tbody tr th {\n",
       "        vertical-align: top;\n",
       "    }\n",
       "\n",
       "    .dataframe thead th {\n",
       "        text-align: right;\n",
       "    }\n",
       "</style>\n",
       "<table border=\"1\" class=\"dataframe\">\n",
       "  <thead>\n",
       "    <tr style=\"text-align: right;\">\n",
       "      <th></th>\n",
       "      <th>OrderId</th>\n",
       "      <th>Address</th>\n",
       "      <th>Rooms</th>\n",
       "      <th>Area</th>\n",
       "      <th>Price</th>\n",
       "    </tr>\n",
       "  </thead>\n",
       "  <tbody>\n",
       "    <tr>\n",
       "      <th>0</th>\n",
       "      <td>1693998205-26</td>\n",
       "      <td>Frowiesstrasse 36, 8344 Bäretswil, ZH</td>\n",
       "      <td>5.5</td>\n",
       "      <td>140.0</td>\n",
       "      <td>2750.0</td>\n",
       "    </tr>\n",
       "    <tr>\n",
       "      <th>1</th>\n",
       "      <td>1693998205-27</td>\n",
       "      <td>Kanzleistrasse 15, 8418 Schlatt ZH, ZH</td>\n",
       "      <td>4.5</td>\n",
       "      <td>104.0</td>\n",
       "      <td>2700.0</td>\n",
       "    </tr>\n",
       "    <tr>\n",
       "      <th>2</th>\n",
       "      <td>1693998205-29</td>\n",
       "      <td>Bolletweg 14, 8934 Knonau, ZH</td>\n",
       "      <td>5.5</td>\n",
       "      <td>150.0</td>\n",
       "      <td>3390.0</td>\n",
       "    </tr>\n",
       "    <tr>\n",
       "      <th>3</th>\n",
       "      <td>1693998205-31</td>\n",
       "      <td>Adlergass 6, 8805 Richterswil, ZH</td>\n",
       "      <td>5.5</td>\n",
       "      <td>165.0</td>\n",
       "      <td>NaN</td>\n",
       "    </tr>\n",
       "    <tr>\n",
       "      <th>4</th>\n",
       "      <td>1693998205-33</td>\n",
       "      <td>Haldenstrasse 67, 8602 Wangen b. Dübendorf, ZH</td>\n",
       "      <td>4.5</td>\n",
       "      <td>118.0</td>\n",
       "      <td>3390.0</td>\n",
       "    </tr>\n",
       "    <tr>\n",
       "      <th>...</th>\n",
       "      <td>...</td>\n",
       "      <td>...</td>\n",
       "      <td>...</td>\n",
       "      <td>...</td>\n",
       "      <td>...</td>\n",
       "    </tr>\n",
       "    <tr>\n",
       "      <th>234</th>\n",
       "      <td>1693998381-998</td>\n",
       "      <td>Tösstalstrasse 12, 8492 Wila, ZH</td>\n",
       "      <td>4.5</td>\n",
       "      <td>109.0</td>\n",
       "      <td>1980.0</td>\n",
       "    </tr>\n",
       "    <tr>\n",
       "      <th>235</th>\n",
       "      <td>1693998381-999</td>\n",
       "      <td>Murzlenstrasse 66, 8166 Niederweningen, ZH</td>\n",
       "      <td>4.5</td>\n",
       "      <td>111.0</td>\n",
       "      <td>2700.0</td>\n",
       "    </tr>\n",
       "    <tr>\n",
       "      <th>236</th>\n",
       "      <td>1693998381-1001</td>\n",
       "      <td>Murzlenstrasse 66, 8166 Niederweningen, ZH</td>\n",
       "      <td>4.5</td>\n",
       "      <td>111.0</td>\n",
       "      <td>2800.0</td>\n",
       "    </tr>\n",
       "    <tr>\n",
       "      <th>237</th>\n",
       "      <td>1693998381-1006</td>\n",
       "      <td>Holzmoosrütisteig 2b, 8820 Wädenswil, ZH</td>\n",
       "      <td>4.5</td>\n",
       "      <td>110.0</td>\n",
       "      <td>3500.0</td>\n",
       "    </tr>\n",
       "    <tr>\n",
       "      <th>238</th>\n",
       "      <td>1693998381-1008</td>\n",
       "      <td>Maneggstrasse 83, 8041 Zürich, ZH</td>\n",
       "      <td>4.5</td>\n",
       "      <td>114.0</td>\n",
       "      <td>3262.0</td>\n",
       "    </tr>\n",
       "  </tbody>\n",
       "</table>\n",
       "<p>239 rows × 5 columns</p>\n",
       "</div>"
      ]
     },
     "execution_count": 35,
     "metadata": {},
     "output_type": "execute_result"
    }
   ],
   "execution_count": 35
  },
  {
   "metadata": {},
   "cell_type": "markdown",
   "source": "d)",
   "id": "84b5a3b620de9d8a"
  },
  {
   "metadata": {
    "ExecuteTime": {
     "end_time": "2025-09-24T16:39:29.588879Z",
     "start_time": "2025-09-24T16:39:29.577595Z"
    }
   },
   "cell_type": "code",
   "source": [
    "cursor.execute('''SELECT Rooms, ROUND(AVG(Price), 2) AS AvgPrice\n",
    "    FROM apartments_table\n",
    "    WHERE Rooms IS NOT NULL AND Price IS NOT NULL\n",
    "    GROUP BY Rooms\n",
    "    ORDER BY Rooms;''')\n",
    "\n",
    "df = pd.DataFrame(cursor.fetchall(), columns=['Rooms','AvgPrice'])\n",
    "\n",
    "# Optional: sicherstellen, dass beide Spalten numerisch sind und verbleibende NaN entfernen\n",
    "df['Rooms'] = pd.to_numeric(df['Rooms'], errors='coerce')\n",
    "df['AvgPrice'] = pd.to_numeric(df['AvgPrice'], errors='coerce')\n",
    "df = df.dropna(subset=['Rooms','AvgPrice']).reset_index(drop=True)\n",
    "\n",
    "df"
   ],
   "id": "2b7638229a0fb324",
   "outputs": [
    {
     "data": {
      "text/plain": [
       "    Rooms  AvgPrice\n",
       "0     1.0   1290.31\n",
       "1     1.5   2036.42\n",
       "2     2.0   2133.38\n",
       "3     2.5   2450.91\n",
       "4     3.0   2112.02\n",
       "5     3.5   2643.37\n",
       "6     4.0   2890.26\n",
       "7     4.5   3029.43\n",
       "8     5.0   2993.33\n",
       "9     5.5   3557.16\n",
       "10    6.0   3280.00\n",
       "11    6.5   3637.67\n",
       "12    7.0   5400.00\n",
       "13    7.5   4765.00\n",
       "14    8.0   5500.00\n",
       "15    8.5   8500.00"
      ],
      "text/html": [
       "<div>\n",
       "<style scoped>\n",
       "    .dataframe tbody tr th:only-of-type {\n",
       "        vertical-align: middle;\n",
       "    }\n",
       "\n",
       "    .dataframe tbody tr th {\n",
       "        vertical-align: top;\n",
       "    }\n",
       "\n",
       "    .dataframe thead th {\n",
       "        text-align: right;\n",
       "    }\n",
       "</style>\n",
       "<table border=\"1\" class=\"dataframe\">\n",
       "  <thead>\n",
       "    <tr style=\"text-align: right;\">\n",
       "      <th></th>\n",
       "      <th>Rooms</th>\n",
       "      <th>AvgPrice</th>\n",
       "    </tr>\n",
       "  </thead>\n",
       "  <tbody>\n",
       "    <tr>\n",
       "      <th>0</th>\n",
       "      <td>1.0</td>\n",
       "      <td>1290.31</td>\n",
       "    </tr>\n",
       "    <tr>\n",
       "      <th>1</th>\n",
       "      <td>1.5</td>\n",
       "      <td>2036.42</td>\n",
       "    </tr>\n",
       "    <tr>\n",
       "      <th>2</th>\n",
       "      <td>2.0</td>\n",
       "      <td>2133.38</td>\n",
       "    </tr>\n",
       "    <tr>\n",
       "      <th>3</th>\n",
       "      <td>2.5</td>\n",
       "      <td>2450.91</td>\n",
       "    </tr>\n",
       "    <tr>\n",
       "      <th>4</th>\n",
       "      <td>3.0</td>\n",
       "      <td>2112.02</td>\n",
       "    </tr>\n",
       "    <tr>\n",
       "      <th>5</th>\n",
       "      <td>3.5</td>\n",
       "      <td>2643.37</td>\n",
       "    </tr>\n",
       "    <tr>\n",
       "      <th>6</th>\n",
       "      <td>4.0</td>\n",
       "      <td>2890.26</td>\n",
       "    </tr>\n",
       "    <tr>\n",
       "      <th>7</th>\n",
       "      <td>4.5</td>\n",
       "      <td>3029.43</td>\n",
       "    </tr>\n",
       "    <tr>\n",
       "      <th>8</th>\n",
       "      <td>5.0</td>\n",
       "      <td>2993.33</td>\n",
       "    </tr>\n",
       "    <tr>\n",
       "      <th>9</th>\n",
       "      <td>5.5</td>\n",
       "      <td>3557.16</td>\n",
       "    </tr>\n",
       "    <tr>\n",
       "      <th>10</th>\n",
       "      <td>6.0</td>\n",
       "      <td>3280.00</td>\n",
       "    </tr>\n",
       "    <tr>\n",
       "      <th>11</th>\n",
       "      <td>6.5</td>\n",
       "      <td>3637.67</td>\n",
       "    </tr>\n",
       "    <tr>\n",
       "      <th>12</th>\n",
       "      <td>7.0</td>\n",
       "      <td>5400.00</td>\n",
       "    </tr>\n",
       "    <tr>\n",
       "      <th>13</th>\n",
       "      <td>7.5</td>\n",
       "      <td>4765.00</td>\n",
       "    </tr>\n",
       "    <tr>\n",
       "      <th>14</th>\n",
       "      <td>8.0</td>\n",
       "      <td>5500.00</td>\n",
       "    </tr>\n",
       "    <tr>\n",
       "      <th>15</th>\n",
       "      <td>8.5</td>\n",
       "      <td>8500.00</td>\n",
       "    </tr>\n",
       "  </tbody>\n",
       "</table>\n",
       "</div>"
      ]
     },
     "execution_count": 36,
     "metadata": {},
     "output_type": "execute_result"
    }
   ],
   "execution_count": 36
  },
  {
   "metadata": {},
   "cell_type": "markdown",
   "source": "e)",
   "id": "3db510ae65605"
  },
  {
   "metadata": {
    "ExecuteTime": {
     "end_time": "2025-09-24T16:39:29.720935Z",
     "start_time": "2025-09-24T16:39:29.712207Z"
    }
   },
   "cell_type": "code",
   "source": [
    "cursor.execute('''\n",
    "SELECT Rooms, ROUND(AVG(Area), 2) AS AvgArea\n",
    "FROM apartments_table\n",
    "WHERE Rooms IS NOT NULL AND Area IS NOT NULL\n",
    "GROUP BY Rooms\n",
    "ORDER BY Rooms\n",
    "''')\n",
    "df = pd.DataFrame(cursor.fetchall(), columns=['Rooms','AvgArea'])\n",
    "df['Rooms'] = pd.to_numeric(df['Rooms'], errors='coerce')\n",
    "df['AvgArea'] = pd.to_numeric(df['AvgArea'], errors='coerce')\n",
    "df = df.dropna(subset=['Rooms','AvgArea']).reset_index(drop=True)\n",
    "print(\"e) Average area per room size\")\n",
    "print(df.head())"
   ],
   "id": "10fb56bc03c207c2",
   "outputs": [
    {
     "name": "stdout",
     "output_type": "stream",
     "text": [
      "e) Average area per room size\n",
      "   Rooms  AvgArea\n",
      "0    1.0    32.09\n",
      "1    1.5    35.53\n",
      "2    2.0    54.43\n",
      "3    2.5    67.32\n",
      "4    3.0    68.98\n"
     ]
    }
   ],
   "execution_count": 37
  },
  {
   "cell_type": "markdown",
   "id": "7904d668",
   "metadata": {},
   "source": [
    "## Close db connection (if open)"
   ]
  },
  {
   "cell_type": "code",
   "id": "1b90d3ee",
   "metadata": {
    "ExecuteTime": {
     "end_time": "2025-09-24T16:39:29.770615Z",
     "start_time": "2025-09-24T16:39:29.765956Z"
    }
   },
   "source": [
    "# Close db connection (if open)\n",
    "try:\n",
    "    if check_conn(conn):\n",
    "        conn.close()\n",
    "    else:\n",
    "        pass\n",
    "except:\n",
    "    pass\n",
    "\n",
    "# Status (True = open, False = closed)\n",
    "print(check_conn(conn))"
   ],
   "outputs": [
    {
     "name": "stdout",
     "output_type": "stream",
     "text": [
      "False\n"
     ]
    }
   ],
   "execution_count": 38
  },
  {
   "cell_type": "markdown",
   "id": "e847eb93",
   "metadata": {},
   "source": [
    "### Jupyter notebook --footer info-- (please always provide this at the end of each submitted notebook)"
   ]
  },
  {
   "cell_type": "code",
   "id": "8e706987",
   "metadata": {
    "ExecuteTime": {
     "end_time": "2025-09-24T16:39:29.817058Z",
     "start_time": "2025-09-24T16:39:29.811200Z"
    }
   },
   "source": [
    "import os\n",
    "import platform\n",
    "import socket\n",
    "from platform import python_version\n",
    "from datetime import datetime\n",
    "\n",
    "print('-----------------------------------')\n",
    "print(os.name.upper())\n",
    "print(platform.system(), '|', platform.release())\n",
    "print('Datetime:', datetime.now().strftime(\"%Y-%m-%d %H:%M:%S\"))\n",
    "print('Python Version:', python_version())\n",
    "print('-----------------------------------')"
   ],
   "outputs": [
    {
     "name": "stdout",
     "output_type": "stream",
     "text": [
      "-----------------------------------\n",
      "NT\n",
      "Windows | 11\n",
      "Datetime: 2025-09-24 18:39:29\n",
      "Python Version: 3.13.7\n",
      "-----------------------------------\n"
     ]
    }
   ],
   "execution_count": 39
  }
 ],
 "metadata": {
  "kernelspec": {
   "display_name": "Python 3 (ipykernel)",
   "language": "python",
   "name": "python3"
  },
  "language_info": {
   "codemirror_mode": {
    "name": "ipython",
    "version": 3
   },
   "file_extension": ".py",
   "mimetype": "text/x-python",
   "name": "python",
   "nbconvert_exporter": "python",
   "pygments_lexer": "ipython3",
   "version": "3.11.9"
  }
 },
 "nbformat": 4,
 "nbformat_minor": 5
}
